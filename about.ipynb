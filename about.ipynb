{
 "cells": [
  {
   "cell_type": "markdown",
   "id": "a0a3134b",
   "metadata": {},
   "source": [
    "tensorflowの導入"
   ]
  },
  {
   "cell_type": "code",
   "execution_count": null,
   "id": "e88a8527",
   "metadata": {},
   "outputs": [],
   "source": [
    "pip install tensorflow==1.15"
   ]
  },
  {
   "cell_type": "code",
   "execution_count": null,
   "id": "d283caa9",
   "metadata": {},
   "outputs": [],
   "source": [
    "pip install tensorflow-hub"
   ]
  },
  {
   "cell_type": "markdown",
   "id": "5261b766",
   "metadata": {},
   "source": [
    "iclawler （画像収集）"
   ]
  },
  {
   "cell_type": "code",
   "execution_count": null,
   "id": "e7c566cc",
   "metadata": {},
   "outputs": [],
   "source": [
    "pip install icrawler"
   ]
  },
  {
   "cell_type": "markdown",
   "id": "37bc4235",
   "metadata": {},
   "source": [
    "pykakasi（カタカナ=>ローマ字変換）"
   ]
  },
  {
   "cell_type": "code",
   "execution_count": null,
   "id": "4e39e2d6",
   "metadata": {},
   "outputs": [],
   "source": [
    "pip install pykakasi"
   ]
  },
  {
   "cell_type": "markdown",
   "id": "93ab337e",
   "metadata": {},
   "source": [
    "fastapi導入"
   ]
  },
  {
   "cell_type": "code",
   "execution_count": null,
   "id": "5acc5ac5",
   "metadata": {},
   "outputs": [],
   "source": [
    "pip install fastapi uvicorn"
   ]
  },
  {
   "cell_type": "markdown",
   "id": "73358a6e",
   "metadata": {},
   "source": [
    "iclawlerで画像取得（配列内に取得物記入）"
   ]
  },
  {
   "cell_type": "code",
   "execution_count": null,
   "id": "5ede69a7",
   "metadata": {
    "scrolled": true
   },
   "outputs": [],
   "source": [
    "python get_photo.py"
   ]
  },
  {
   "cell_type": "markdown",
   "id": "4a4ecd2d",
   "metadata": {},
   "source": [
    "tensorflowで学習実行"
   ]
  },
  {
   "cell_type": "code",
   "execution_count": null,
   "id": "93eeae84",
   "metadata": {},
   "outputs": [],
   "source": [
    "python retrain.py --image_dir=resize --output_graph=./model/output_graph.pb --output_labels=./model/output_labels.txt --how_many_training_steps 5000"
   ]
  },
  {
   "cell_type": "markdown",
   "id": "00b44062",
   "metadata": {},
   "source": [
    "FastAPIを実行 （画像認識API）"
   ]
  },
  {
   "cell_type": "code",
   "execution_count": null,
   "id": "3e9ecf5b",
   "metadata": {},
   "outputs": [],
   "source": [
    "python main.py"
   ]
  }
 ],
 "metadata": {
  "kernelspec": {
   "display_name": "Python 3 (ipykernel)",
   "language": "python",
   "name": "python3"
  },
  "language_info": {
   "codemirror_mode": {
    "name": "ipython",
    "version": 3
   },
   "file_extension": ".py",
   "mimetype": "text/x-python",
   "name": "python",
   "nbconvert_exporter": "python",
   "pygments_lexer": "ipython3",
   "version": "3.7.11"
  }
 },
 "nbformat": 4,
 "nbformat_minor": 5
}
